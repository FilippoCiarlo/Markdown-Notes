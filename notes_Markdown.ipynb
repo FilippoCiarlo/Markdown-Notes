{
 "cells": [
  {
   "cell_type": "markdown",
   "id": "2bdef71c-fab7-451c-ab42-1cc956990bbe",
   "metadata": {},
   "source": [
    "# **Heading**"
   ]
  },
  {
   "cell_type": "markdown",
   "id": "976b3808-5dd4-4e25-b43a-1f9ca449d11d",
   "metadata": {},
   "source": [
    "# sample_text-lv1\n",
    "## sample_text-lv2\n",
    "### sample_text-lv3\n",
    "#### sample_text-lv4\n",
    "##### sample_text-lv5\n",
    "###### sample_text-lv6"
   ]
  },
  {
   "cell_type": "markdown",
   "id": "6ab6d8d6-6d67-40f7-8678-1985728a8a6d",
   "metadata": {},
   "source": [
    "# **Bold and Italics**"
   ]
  },
  {
   "cell_type": "markdown",
   "id": "b25f0ce6-1aaf-4753-9212-2f1558b80d34",
   "metadata": {},
   "source": [
    "**This is a bold text**"
   ]
  },
  {
   "cell_type": "markdown",
   "id": "df505bb2-e4c6-4eae-9e7f-81f6b733658e",
   "metadata": {},
   "source": [
    "_This text is in italics_"
   ]
  },
  {
   "cell_type": "markdown",
   "id": "8672b5e9-e4c5-4271-b984-79a10f4e9ed4",
   "metadata": {},
   "source": [
    "# **Ordered/Numbered List**"
   ]
  },
  {
   "cell_type": "markdown",
   "id": "b35370f5-7f6a-46ed-b527-38d3f0e4f3a1",
   "metadata": {},
   "source": [
    "1. First Item\n",
    "    1. Item First of First\n",
    "    2. Item Second of First\n",
    "    3. Item Third of First\n",
    "2. Second Item\n",
    "    1. Item First of Second\n",
    "    2. Item Second of Second\n",
    "    3. Item Third of Second\n",
    "3. Third Item\n",
    "    1. Item First of Third\n",
    "    2. Item Second of Third\n",
    "    3. Item Third of Third"
   ]
  },
  {
   "cell_type": "markdown",
   "id": "894eb112-979d-4469-bdff-5f3cf2d92267",
   "metadata": {},
   "source": [
    "# **Bullet List**"
   ]
  },
  {
   "cell_type": "markdown",
   "id": "8d81b630-21e0-4bba-9ba1-92334b8d0c9c",
   "metadata": {},
   "source": [
    "- First Item\n",
    "    * Item First of First\n",
    "    * Item Second of First\n",
    "    * Item Third of First\n",
    "- Second Item\n",
    "    * Item First of Second\n",
    "    * Item Second of Second\n",
    "    * Item Third of Second\n",
    "- Third Item\n",
    "    * Item First of Third\n",
    "    * Item Second of Third\n",
    "    * Item Third of Third"
   ]
  },
  {
   "cell_type": "markdown",
   "id": "04814c4f-a91e-4096-ac97-d9596be41912",
   "metadata": {},
   "source": [
    "# **Indentation**"
   ]
  },
  {
   "cell_type": "markdown",
   "id": "672f4e6b-2508-4fea-a0a6-d9f50387fa26",
   "metadata": {},
   "source": [
    "> This text will be indended"
   ]
  },
  {
   "cell_type": "markdown",
   "id": "72d8c51e-d6a4-40f0-8e2c-3b4173116929",
   "metadata": {},
   "source": [
    ">> This text will be indended twice"
   ]
  },
  {
   "cell_type": "markdown",
   "id": "0dbfdc40-7697-4e30-91e6-3dec0f10fb10",
   "metadata": {},
   "source": [
    ">>> This text will be indended three times"
   ]
  },
  {
   "cell_type": "markdown",
   "id": "d31a3aa2-6090-4f25-935a-164c4698b032",
   "metadata": {},
   "source": [
    "# **Hyperlinks**"
   ]
  },
  {
   "cell_type": "markdown",
   "id": "fdefcbd7-81b1-46b6-b6c6-a2aafd75eb78",
   "metadata": {},
   "source": [
    "[The Best Programming Language in the World](https://www.python.org)"
   ]
  },
  {
   "cell_type": "markdown",
   "id": "fa1515ac-1136-4b8c-bb22-b6ddf5cfade3",
   "metadata": {},
   "source": [
    "# **Mathematical Eqations**"
   ]
  },
  {
   "cell_type": "markdown",
   "id": "7799a9d1-fb22-4ad7-9959-8acb98e0f8fa",
   "metadata": {},
   "source": [
    "$ x^2 + 2xy + yz = 120 $"
   ]
  },
  {
   "cell_type": "markdown",
   "id": "4f86526e-c21d-4c60-8b38-2a84503950eb",
   "metadata": {},
   "source": [
    "$ e = mc^2 $"
   ]
  },
  {
   "cell_type": "markdown",
   "id": "743eba13-29bc-414e-8845-0b485a5b2fd4",
   "metadata": {},
   "source": [
    "# **Images**"
   ]
  },
  {
   "cell_type": "markdown",
   "id": "204366d8-5d58-404b-934b-a522c18a6ab7",
   "metadata": {},
   "source": [
    "<img src = \"python-logo.png\" alt = \"The Python Logo\" >"
   ]
  },
  {
   "cell_type": "markdown",
   "id": "ead29280-3fb0-4360-a22f-bf43e77b0a6f",
   "metadata": {},
   "source": [
    "![he Python Logo](python-logo.png \"The Python Logo\")"
   ]
  },
  {
   "cell_type": "markdown",
   "id": "74099db2-44ac-4351-9aa3-39d40f85026c",
   "metadata": {},
   "source": [
    "# **Tables**"
   ]
  },
  {
   "cell_type": "markdown",
   "id": "b40d8b00-237d-41f9-b0c3-5f936e130a11",
   "metadata": {},
   "source": [
    "| Salary | Emp No. | Emp Name |\n",
    "|--------|---------|----------|\n",
    "| 100 | 1 | Andrew |\n",
    "| 200 | 2 | Mathew |\n",
    "| 300 | 3 | Steve |\n",
    "| 900 | 4 | Ying |"
   ]
  },
  {
   "cell_type": "markdown",
   "id": "4844cdb3-2a8f-487e-a3f1-7fa68db1faac",
   "metadata": {},
   "source": [
    "# **Coloured Text Boxes**"
   ]
  },
  {
   "cell_type": "markdown",
   "id": "343f06ec-8579-4f9c-b5ec-ea2c73907134",
   "metadata": {},
   "source": [
    "<div class=\"alert alert-block alert-info\">\n",
    "    This text will be enclosed in a blue box\n",
    "</div>"
   ]
  },
  {
   "cell_type": "markdown",
   "id": "0eb9974b-965c-49da-aba4-d59e011d2968",
   "metadata": {},
   "source": [
    "<div class=\"alert alert-success\">\n",
    "    This text will be enclosed in a green box\n",
    "</div>"
   ]
  },
  {
   "cell_type": "markdown",
   "id": "ca79833b-5d4b-44cc-b7f3-919b3764ec8e",
   "metadata": {},
   "source": [
    "<div class=\"alert alert-warning\">\n",
    "    This text will be enclosed in a yellow box\n",
    "</div>"
   ]
  },
  {
   "cell_type": "markdown",
   "id": "c91f5d3a-3f1a-49c3-b9ad-39bedcc3fcd8",
   "metadata": {},
   "source": [
    "<div class=\"alert alert-danger\">\n",
    "    This text will be enclosed in a red box\n",
    "</div>"
   ]
  },
  {
   "cell_type": "markdown",
   "id": "e1e615b6-f2ad-43bc-950c-462c16f1ff50",
   "metadata": {},
   "source": [
    "# **Lines**"
   ]
  },
  {
   "cell_type": "markdown",
   "id": "b77cbfdc-45ba-42d6-941c-3949c22e5426",
   "metadata": {},
   "source": [
    "***\n",
    "___\n",
    "---"
   ]
  },
  {
   "cell_type": "markdown",
   "id": "3fb5ef79-c71a-4aa7-a916-800f0644d263",
   "metadata": {},
   "source": [
    "# **UTF-8 Geometric Shapes**"
   ]
  },
  {
   "cell_type": "markdown",
   "id": "8c0bdde5-61d0-4d4d-ae16-7d598f195884",
   "metadata": {},
   "source": [
    "&#9650;\n",
    "&#9645;\n",
    "&#9644;\n",
    "&#9643;\n",
    "&#9642;\n",
    "&#9641;"
   ]
  },
  {
   "cell_type": "markdown",
   "id": "08d51eb3-067d-4c8b-a4c7-32c497a0386f",
   "metadata": {},
   "source": [
    "[Other UTF-8 Geometric Shapes Here](https://www.w3schools.com/charsets/ref_utf_geometric.asp)"
   ]
  },
  {
   "cell_type": "code",
   "execution_count": null,
   "id": "eb9d408d-6b5f-429d-8c6b-5f04f30dc452",
   "metadata": {},
   "outputs": [],
   "source": []
  }
 ],
 "metadata": {
  "kernelspec": {
   "display_name": "Python 3 (ipykernel)",
   "language": "python",
   "name": "python3"
  },
  "language_info": {
   "codemirror_mode": {
    "name": "ipython",
    "version": 3
   },
   "file_extension": ".py",
   "mimetype": "text/x-python",
   "name": "python",
   "nbconvert_exporter": "python",
   "pygments_lexer": "ipython3",
   "version": "3.10.8"
  }
 },
 "nbformat": 4,
 "nbformat_minor": 5
}
