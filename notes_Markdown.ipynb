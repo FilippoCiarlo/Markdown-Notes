{
 "cells": [
  {
   "cell_type": "markdown",
   "id": "644bac69-c66c-41b9-ae4f-c85d5226dfc8",
   "metadata": {},
   "source": [
    "# **Index** <a id='0'></a>\n",
    "1. [Heading](#1)\n",
    "2. [Lines](#2)\n",
    "3. [Line Breaks](#3)\n",
    "4. [Italics, Bold and Strikethrough](#4)\n",
    "5. [Code Blocks](#5)\n",
    "6. [Numbered List](#6)\n",
    "7. [Bullet List](#7)\n",
    "8. [Tasks List](#8)\n",
    "9. [Indentation](#9)\n",
    "10. [Hyperlinks](#10)\n",
    "11. [Mathmatical Eqations](#11)\n",
    "12. [Tables](#12)\n",
    "13. [Images](#13)\n",
    "14. [Coloured Text Boxes](#14)\n",
    "15. [UTF-8 Geometric Shapes](#15)"
   ]
  },
  {
   "cell_type": "markdown",
   "id": "976b3808-5dd4-4e25-b43a-1f9ca449d11d",
   "metadata": {},
   "source": [
    "# **Heading** <a id='1'></a>\n",
    "\n",
    "# Heading level 1\n",
    "## Heading level 2\n",
    "### Heading level 3\n",
    "#### Heading level 4\n",
    "##### Heading level 5\n",
    "###### Heading level 6\n",
    "\n",
    "<h1>Heading level 1</h1>\n",
    "<h2>Heading level 2</h2>\n",
    "<h3>Heading level 3</h3>\n",
    "<h4>Heading level 4</h4>\n",
    "<h5>Heading level 5</h5>\n",
    "<h6>Heading level 6</h6>\n",
    "\n",
    "</br>[&#9650; **Index**](#0)"
   ]
  },
  {
   "cell_type": "markdown",
   "id": "e1e615b6-f2ad-43bc-950c-462c16f1ff50",
   "metadata": {
    "tags": []
   },
   "source": [
    "# **Lines** <a id='2'></a>\n",
    "    ***\n",
    "***\n",
    "\n",
    "    ___\n",
    "___\n",
    "\n",
    "    ---\n",
    "---\n",
    "\n",
    "</br>[&#9650; **Index**](#0)"
   ]
  },
  {
   "cell_type": "markdown",
   "id": "12c916e3-c989-4910-828b-5dfc71e3b057",
   "metadata": {},
   "source": [
    "# **Line Breaks** <a id='3'></a>\n",
    "\n",
    "This is the first line.</br>\n",
    "This is the second line.\n",
    "\n",
    "</br>[&#9650; **Index**](#0)"
   ]
  },
  {
   "cell_type": "markdown",
   "id": "6ab6d8d6-6d67-40f7-8678-1985728a8a6d",
   "metadata": {},
   "source": [
    "# **Italics, Bold and Strikethrough** <a id='4'></a>\n",
    "\n",
    "*This text is in italics*</br>\n",
    "_This text is in italics_</br>\n",
    "<em>This text is in italics</em>\n",
    "\n",
    "**This is a bold text** </br>\n",
    "<strong>This is a bold text</strong>\n",
    "\n",
    "**_Mixed Bold & Italic_** </br>\n",
    "<strong><em>Mixed Bold & Italic</em></strong>\n",
    "\n",
    "<del>This is strikethrough text</del>\n",
    "\n",
    "</br>[&#9650; **Index**](#0)"
   ]
  },
  {
   "cell_type": "markdown",
   "id": "f78477f9-f0c8-4436-b1b2-53e9a8287149",
   "metadata": {},
   "source": [
    "# **Code Blocks** <a id='5'></a>\n",
    "\n",
    "    #Indent of four spaces or a tab to create a Code Block like this\n",
    "    <html>\n",
    "        <head>\n",
    "        </head>\n",
    "    <html>\n",
    "</br>[&#9650; **Index**](#0)"
   ]
  },
  {
   "cell_type": "markdown",
   "id": "8672b5e9-e4c5-4271-b984-79a10f4e9ed4",
   "metadata": {},
   "source": [
    "# **Numbered List** <a id='6'></a>\n",
    "\n",
    "**Markdown:**\n",
    "\n",
    "    1. First Item\n",
    "        1. Item First of First\n",
    "        2. Item Second of First\n",
    "        3. Item Third of First\n",
    "    2. Second Item\n",
    "        1. Item First of Second\n",
    "        2. Item Second of Second\n",
    "        3. Item Third of Second\n",
    "    3. Third Item\n",
    "        1. Item First of Third\n",
    "        2. Item Second of Third\n",
    "        3. Item Third of Third\n",
    "        \n",
    "**Output:**\n",
    "1. First Item\n",
    "    1. Item First of First\n",
    "    2. Item Second of First\n",
    "    3. Item Third of First\n",
    "2. Second Item\n",
    "    1. Item First of Second\n",
    "    2. Item Second of Second\n",
    "    3. Item Third of Second\n",
    "3. Third Item\n",
    "    1. Item First of Third\n",
    "    2. Item Second of Third\n",
    "    3. Item Third of Third\n",
    "\n",
    "</br>[&#9650; **Index**](#0)"
   ]
  },
  {
   "cell_type": "markdown",
   "id": "894eb112-979d-4469-bdff-5f3cf2d92267",
   "metadata": {},
   "source": [
    "# **Bullet List** <a id='7'></a>\n",
    "\n",
    "- First Item\n",
    "    * Item First of First\n",
    "    * Item Second of First\n",
    "    * Item Third of First\n",
    "- Second Item\n",
    "    * Item First of Second\n",
    "    * Item Second of Second\n",
    "    * Item Third of Second\n",
    "- Third Item\n",
    "    * Item First of Third\n",
    "    * Item Second of Third\n",
    "    * Item Third of Third\n",
    "    \n",
    "</br>[&#9650; **Index**](#0)"
   ]
  },
  {
   "cell_type": "markdown",
   "id": "652e293f-c259-469b-a027-296eb1f5ad67",
   "metadata": {},
   "source": [
    "# **Tasks Lists** <a id='8'></a>\n",
    "\n",
    "- [x] First thing to do\n",
    "- [ ] Second thing to do\n",
    "- [ ] Third thing to do\n",
    "\n",
    "</br>[&#9650; **Index**](#0)"
   ]
  },
  {
   "cell_type": "markdown",
   "id": "04814c4f-a91e-4096-ac97-d9596be41912",
   "metadata": {},
   "source": [
    "# **Indentation** <a id='9'></a>\n",
    "\n",
    "> This text is indended\n",
    ">> This text is indended twice\n",
    ">>> This text is indended three times\n",
    "\n",
    "</br>[&#9650; **Index**](#0)"
   ]
  },
  {
   "cell_type": "markdown",
   "id": "d31a3aa2-6090-4f25-935a-164c4698b032",
   "metadata": {},
   "source": [
    "# **Hyperlinks** <a id='10'></a>\n",
    "\n",
    "[The Best Programming Language in the World](https://www.python.org)\n",
    "</br>[&#9650; **Index**](#0)"
   ]
  },
  {
   "cell_type": "markdown",
   "id": "fa1515ac-1136-4b8c-bb22-b6ddf5cfade3",
   "metadata": {},
   "source": [
    "# **Mathematical Eqations** <a id='11'></a>\n",
    "\n",
    "$ x^2 + 2xy + yz = 120 $ </br>\n",
    "$ e = mc^2 $\n",
    "\n",
    "</br>[&#9650; **Index**](#0)"
   ]
  },
  {
   "cell_type": "markdown",
   "id": "74099db2-44ac-4351-9aa3-39d40f85026c",
   "metadata": {},
   "source": [
    "# **Tables** <a id='12'></a>\n",
    "\n",
    "| Salary | Emp No. | Emp Name |\n",
    "|--------|---------|----------|\n",
    "| 100 | 1 | Andrew |\n",
    "| 200 | 2 | Mathew |\n",
    "| 300 | 3 | Steve |\n",
    "| 900 | 4 | Ying |\n",
    "\n",
    " </br>[&#9650; **Index**](#0)"
   ]
  },
  {
   "cell_type": "markdown",
   "id": "743eba13-29bc-414e-8845-0b485a5b2fd4",
   "metadata": {},
   "source": [
    "# **Images** <a id='13'></a>\n",
    "\n",
    "<img src = \"images/python-logo.png\" alt = \"The Python Logo\" title = \"This is the Python Logo\"></br>\n",
    "![The Python Logo](images/python-logo.png \"This is the Python Logo\")\n",
    "</br>[&#9650; **Index**](#0)"
   ]
  },
  {
   "cell_type": "markdown",
   "id": "4844cdb3-2a8f-487e-a3f1-7fa68db1faac",
   "metadata": {},
   "source": [
    "# **Coloured Text Boxes** <a id='14'></a>\n",
    "\n",
    "<div class=\"alert alert-block alert-info\">\n",
    "    This text will be enclosed in a blue box\n",
    "</div>\n",
    "\n",
    "<div class=\"alert alert-success\">\n",
    "    This text will be enclosed in a green box\n",
    "</div>\n",
    "\n",
    "<div class=\"alert alert-warning\">\n",
    "    This text will be enclosed in a yellow box\n",
    "</div>\n",
    "\n",
    "<div class=\"alert alert-danger\">\n",
    "    This text will be enclosed in a red box\n",
    "</div>\n",
    "\n",
    "</br>[&#9650; **Index**](#0)"
   ]
  },
  {
   "cell_type": "markdown",
   "id": "3fb5ef79-c71a-4aa7-a916-800f0644d263",
   "metadata": {},
   "source": [
    "# **UTF-8 Geometric Shapes** <a id='15'></a>\n",
    "\n",
    "&#9650; \n",
    "&#9645; \n",
    "&#9644; \n",
    "&#9643; \n",
    "&#9642; \n",
    "&#9641; </br> \n",
    "[Other UTF-8 Geometric Shapes Here](https://www.w3schools.com/charsets/ref_utf_geometric.asp)\n",
    "\n",
    "</br>[&#9650; **Index**](#0)"
   ]
  }
 ],
 "metadata": {
  "kernelspec": {
   "display_name": "Python 3 (ipykernel)",
   "language": "python",
   "name": "python3"
  },
  "language_info": {
   "codemirror_mode": {
    "name": "ipython",
    "version": 3
   },
   "file_extension": ".py",
   "mimetype": "text/x-python",
   "name": "python",
   "nbconvert_exporter": "python",
   "pygments_lexer": "ipython3",
   "version": "3.10.8"
  }
 },
 "nbformat": 4,
 "nbformat_minor": 5
}
